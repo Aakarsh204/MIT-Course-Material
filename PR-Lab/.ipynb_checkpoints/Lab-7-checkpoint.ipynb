{
 "cells": [
  {
   "cell_type": "markdown",
   "id": "da2834a9-71c4-481e-ba82-36e1d6559f41",
   "metadata": {},
   "source": [
    "# Hopfield Network"
   ]
  },
  {
   "cell_type": "code",
   "execution_count": 1,
   "id": "ab004a8b-e8d9-491b-9b2a-4030035eb719",
   "metadata": {},
   "outputs": [],
   "source": [
    "import numpy as np"
   ]
  },
  {
   "cell_type": "code",
   "execution_count": 2,
   "id": "72a37c75-108d-4387-bd24-fca53ea49afe",
   "metadata": {},
   "outputs": [],
   "source": [
    "def train_hopfield(patterns):\n",
    "  num_neurons = len(patterns[0])\n",
    "  weights = np.zeros((num_neurons, num_neurons))\n",
    "\n",
    "  for pattern in patterns:\n",
    "    pattern = np.array(pattern).reshape(-1, 1)\n",
    "    weights += pattern @ pattern.T\n",
    "\n",
    "  np.fill_diagonal(weights, 0)\n",
    "  return weights"
   ]
  },
  {
   "cell_type": "code",
   "execution_count": 3,
   "id": "f2359ee6-83cb-46c1-911d-d900b28e94bc",
   "metadata": {},
   "outputs": [],
   "source": [
    "def recall(weights, input, max_iter = 10):\n",
    "  output = np.array(input)\n",
    "\n",
    "  for _ in range(max_iter):\n",
    "    for i in range(len(output)):\n",
    "      net_input = weights[i] @ output\n",
    "      output[i] = 1 if net_input >= 0 else -1\n",
    "\n",
    "  return output"
   ]
  },
  {
   "cell_type": "code",
   "execution_count": 4,
   "id": "1db31dec-8efd-414a-b59f-be4794cac52b",
   "metadata": {},
   "outputs": [
    {
     "name": "stdout",
     "output_type": "stream",
     "text": [
      "[-1  1 -1 -1 -1 -1 -1  1 -1  1]\n"
     ]
    }
   ],
   "source": [
    "original = [-1, 1, -1, -1, -1, -1, -1, 1, -1, 1]\n",
    "weights = train_hopfield([original])\n",
    "noisy = [-1, -1, -1, 1, -1, -1, -1, 1, -1, 1]\n",
    "recalled = recall(weights, noisy)\n",
    "print(recalled)"
   ]
  }
 ],
 "metadata": {
  "kernelspec": {
   "display_name": "Python 3 (ipykernel)",
   "language": "python",
   "name": "python3"
  },
  "language_info": {
   "codemirror_mode": {
    "name": "ipython",
    "version": 3
   },
   "file_extension": ".py",
   "mimetype": "text/x-python",
   "name": "python",
   "nbconvert_exporter": "python",
   "pygments_lexer": "ipython3",
   "version": "3.10.12"
  }
 },
 "nbformat": 4,
 "nbformat_minor": 5
}
