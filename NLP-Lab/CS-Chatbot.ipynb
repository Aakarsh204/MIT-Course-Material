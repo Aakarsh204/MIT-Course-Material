{
 "cells": [
  {
   "cell_type": "code",
   "execution_count": 5,
   "id": "8a18de70-a0c0-45af-86bc-6fe1b89c84ba",
   "metadata": {},
   "outputs": [
    {
     "name": "stdout",
     "output_type": "stream",
     "text": [
      "Chatbot: Hello! How can I assist you today? (Type 'exit' to quit)\n"
     ]
    },
    {
     "name": "stdin",
     "output_type": "stream",
     "text": [
      "You:  quit\n"
     ]
    },
    {
     "name": "stdout",
     "output_type": "stream",
     "text": [
      "Chatbot: I'm sorry, I didn't understand that.\n"
     ]
    },
    {
     "name": "stdin",
     "output_type": "stream",
     "text": [
      "You:  exit\n"
     ]
    },
    {
     "name": "stdout",
     "output_type": "stream",
     "text": [
      "Chatbot: Goodbye! Have a great day!\n"
     ]
    }
   ],
   "source": [
    "import spacy\n",
    "\n",
    "# Load spaCy English model\n",
    "# python -m spacy download en_core_web_sm\n",
    "import en_core_web_sm\n",
    "nlp = en_core_web_sm.load()\n",
    "\n",
    "# Intent-response mappings\n",
    "intent_responses = {\n",
    "    \"order_status\": \"Please provide your Order ID to check the status.\",\n",
    "    \"product_inquiry\": \"Can you specify the product name? I'll get details for you.\",\n",
    "    \"refund_request\": \"Refunds are processed within 5-7 business days. Please provide your Order ID.\",\n",
    "    \"greeting\": \"Hello! How can I assist you today?\",\n",
    "    \"goodbye\": \"Thank you for reaching out. Have a great day!\"\n",
    "}\n",
    "\n",
    "# Keywords mapping to intents\n",
    "intent_keywords = {\n",
    "    \"order_status\": [\"track\", \"status\", \"order\"],\n",
    "    \"product_inquiry\": [\"product\", \"details\", \"features\"],\n",
    "    \"refund_request\": [\"refund\", \"return\", \"money back\"],\n",
    "    \"greeting\": [\"hi\", \"hello\", \"hey\"],\n",
    "    \"goodbye\": [\"bye\", \"goodbye\", \"see you\"]\n",
    "}\n",
    "\n",
    "# Preprocessing user input\n",
    "def preprocess_text(text):\n",
    "    doc = nlp(text.lower())\n",
    "    return [token.lemma_ for token in doc if not token.is_punct and not token.is_stop]\n",
    "\n",
    "# Intent classification\n",
    "def classify_intent(user_input):\n",
    "    tokens = preprocess_text(user_input)\n",
    "    for intent, keywords in intent_keywords.items():\n",
    "        if any(word in tokens for word in keywords):\n",
    "            return intent\n",
    "    return \"unknown\"\n",
    "\n",
    "# Named entity extraction\n",
    "def extract_entities(user_input):\n",
    "    doc = nlp(user_input)\n",
    "    return {ent.label_: ent.text for ent in doc.ents}\n",
    "\n",
    "# Chatbot response generation\n",
    "def chatbot_response(user_input):\n",
    "    intent = classify_intent(user_input)\n",
    "    entities = extract_entities(user_input)\n",
    "    response = intent_responses.get(intent, \"I'm sorry, I didn't understand that.\")\n",
    "\n",
    "    if \"ORDINAL\" in entities:\n",
    "        response += f\" Your Order ID is {entities['ORDINAL']}.\"\n",
    "    if \"PRODUCT\" in entities:\n",
    "        response += f\" You're asking about {entities['PRODUCT']}.\"\n",
    "    return response\n",
    "\n",
    "# Chat loop\n",
    "print(\"Chatbot: Hello! How can I assist you today? (Type 'exit' to quit)\")\n",
    "while True:\n",
    "    user_input = input(\"You: \")\n",
    "    if user_input.lower() == \"exit\":\n",
    "        print(\"Chatbot: Goodbye! Have a great day!\")\n",
    "        break\n",
    "    print(f\"Chatbot: {chatbot_response(user_input)}\")"
   ]
  },
  {
   "cell_type": "code",
   "execution_count": null,
   "id": "3f1548f6-29ee-4343-a6eb-1e7ac0927048",
   "metadata": {},
   "outputs": [],
   "source": []
  }
 ],
 "metadata": {
  "kernelspec": {
   "display_name": "Python 3 (ipykernel)",
   "language": "python",
   "name": "python3"
  },
  "language_info": {
   "codemirror_mode": {
    "name": "ipython",
    "version": 3
   },
   "file_extension": ".py",
   "mimetype": "text/x-python",
   "name": "python",
   "nbconvert_exporter": "python",
   "pygments_lexer": "ipython3",
   "version": "3.10.12"
  }
 },
 "nbformat": 4,
 "nbformat_minor": 5
}
