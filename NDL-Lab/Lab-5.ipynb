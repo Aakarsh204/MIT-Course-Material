{
 "cells": [
  {
   "cell_type": "code",
   "execution_count": 1,
   "id": "faafd3a5-29e2-4898-80cd-712771bc84ed",
   "metadata": {},
   "outputs": [],
   "source": [
    "import numpy as np\n",
    "import matplotlib.pyplot as plt"
   ]
  },
  {
   "cell_type": "code",
   "execution_count": 2,
   "id": "a3e155ad-e771-42b4-9e21-b5d82c66ad09",
   "metadata": {},
   "outputs": [],
   "source": [
    "def generate(samples = 1000):\n",
    "    mean = [0, 0]\n",
    "    cov = [[3, 2], [2, 2]]\n",
    "    data = np.random.multivariate_normal(mean, cov, samples)\n",
    "    return data"
   ]
  },
  {
   "cell_type": "code",
   "execution_count": null,
   "id": "ff0773d6-1b18-4fd1-94e5-c64a3e5d5819",
   "metadata": {},
   "outputs": [],
   "source": [
    "class LinearNeuronHebbian:\n",
    "    def __init__(self"
   ]
  }
 ],
 "metadata": {
  "kernelspec": {
   "display_name": "Python 3 (ipykernel)",
   "language": "python",
   "name": "python3"
  },
  "language_info": {
   "codemirror_mode": {
    "name": "ipython",
    "version": 3
   },
   "file_extension": ".py",
   "mimetype": "text/x-python",
   "name": "python",
   "nbconvert_exporter": "python",
   "pygments_lexer": "ipython3",
   "version": "3.10.12"
  }
 },
 "nbformat": 4,
 "nbformat_minor": 5
}
