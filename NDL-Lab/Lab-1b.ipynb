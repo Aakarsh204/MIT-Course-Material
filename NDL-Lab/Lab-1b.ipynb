{
 "cells": [
  {
   "cell_type": "markdown",
   "id": "304a1f40-6557-4cf6-8e0c-587497adfefb",
   "metadata": {},
   "source": [
    "# Error Correction in Single Neuron"
   ]
  },
  {
   "cell_type": "code",
   "execution_count": 1,
   "id": "40dd28bf-62e5-4b87-b348-b17d93551f2f",
   "metadata": {},
   "outputs": [],
   "source": [
    "import numpy as np"
   ]
  },
  {
   "cell_type": "code",
   "execution_count": 75,
   "id": "8bf95837-1266-437a-a876-79fb9166bf44",
   "metadata": {},
   "outputs": [],
   "source": [
    "class Neuron:\n",
    "    def __init__(self, num_inputs):\n",
    "        self.weights = np.random.rand(num_inputs)\n",
    "        self.bias = np.random.rand()\n",
    "\n",
    "    def activate(self, inputs):\n",
    "        weighted_sum = np.dot(inputs, self.weights) + self.bias\n",
    "        activation = self.sigmoid(weighted_sum)\n",
    "        return activation\n",
    "\n",
    "    def sigmoid(self, x):\n",
    "        return 1/(1+np.exp(-x))\n",
    "\n",
    "    def train(self, inputs, target, lr = 0.01):\n",
    "        out = self.activate(inputs)\n",
    "        error = target - out\n",
    "        self.weights += lr*error*inputs\n",
    "        self.bias += lr*error"
   ]
  },
  {
   "cell_type": "code",
   "execution_count": 66,
   "id": "a3dfd699-306d-4303-9c32-e2a8906137c7",
   "metadata": {},
   "outputs": [],
   "source": [
    "neuron = Neuron(5)"
   ]
  },
  {
   "cell_type": "code",
   "execution_count": 71,
   "id": "7adf97be-c23e-48bb-8202-277e37f99ce0",
   "metadata": {},
   "outputs": [],
   "source": [
    "for i in range(100000):\n",
    "    neuron.train([-10, 10, 15, 12, -0.1], [0, 0, 1 ,1 ,0])"
   ]
  },
  {
   "cell_type": "code",
   "execution_count": 72,
   "id": "67215e70-7b90-499f-8ccb-0f07c1270d61",
   "metadata": {},
   "outputs": [
    {
     "data": {
      "text/plain": [
       "array([ 90.87444568, -89.60966194,  73.45818003,  58.72798497,\n",
       "         1.08270163])"
      ]
     },
     "execution_count": 72,
     "metadata": {},
     "output_type": "execute_result"
    }
   ],
   "source": [
    "neuron.weights"
   ]
  },
  {
   "cell_type": "code",
   "execution_count": 73,
   "id": "0250c2ea-a8d5-454f-a8f5-08a96818fad5",
   "metadata": {},
   "outputs": [],
   "source": [
    "output = neuron.activate([-10, 10, 15, 12, -0.1])"
   ]
  },
  {
   "cell_type": "code",
   "execution_count": 74,
   "id": "a6f75950-ea9e-4ae4-a9aa-e3d891388892",
   "metadata": {},
   "outputs": [
    {
     "name": "stdout",
     "output_type": "stream",
     "text": [
      "[0.00129004 0.00129004 0.99929996 0.99929996 0.00129004]\n"
     ]
    }
   ],
   "source": [
    "print(output)"
   ]
  },
  {
   "cell_type": "markdown",
   "id": "5401f25c-0654-418d-8299-e09c70157240",
   "metadata": {},
   "source": [
    "# Memory Based Learning"
   ]
  },
  {
   "cell_type": "code",
   "execution_count": 1,
   "id": "58dfe735-e495-43b0-a6d1-3a0ff9b2d307",
   "metadata": {},
   "outputs": [],
   "source": [
    "import numpy as np\n",
    "from collections import Counter"
   ]
  },
  {
   "cell_type": "code",
   "execution_count": 2,
   "id": "3755cb5d-9723-4bff-af4e-b6ae9343c6d4",
   "metadata": {},
   "outputs": [],
   "source": [
    "class Neuron:\n",
    "    def __init__(self, k):\n",
    "        self.k = k\n",
    "        self.X_train = None\n",
    "        self.y_train = None\n",
    "\n",
    "    def train(self, X_train, y_train):\n",
    "        self.X_train = X_train\n",
    "        self.y_train = y_train\n",
    "\n",
    "    def prediction(self, X_test):\n",
    "        preds = [self.predict(x) for x in X_test]\n",
    "        return np.array(preds)\n",
    "\n",
    "    def predict(self, x):\n",
    "        distances = [self.distance(x, x_train) for x_train in self.X_train]\n",
    "        k_indices = np.argsort(distances)[:self.k]\n",
    "        k_nearest_labels = [self.y_train[i] for i in k_indices]\n",
    "        most_common = Counter(k_nearest_labels).most_common(1)\n",
    "        return most_common[0][0]\n",
    "\n",
    "    def distance(self, x1, x2):\n",
    "        return np.sqrt(np.sum((x1-x2)**2))"
   ]
  },
  {
   "cell_type": "code",
   "execution_count": 3,
   "id": "92cb9ed3-993e-4b3b-9d37-bfdd726ea638",
   "metadata": {},
   "outputs": [],
   "source": [
    "neuron = Neuron(3)"
   ]
  },
  {
   "cell_type": "code",
   "execution_count": 4,
   "id": "a88e33e9-9a10-43f8-83b1-a244478e2a94",
   "metadata": {},
   "outputs": [],
   "source": [
    "X_train = np.array([[1, 2], [2, 3], [3, 4], [4, 5]])\n",
    "y_train = np.array([0, 0, 1, 1])"
   ]
  },
  {
   "cell_type": "code",
   "execution_count": 5,
   "id": "315a41bd-255c-4187-aeac-4038ace32989",
   "metadata": {},
   "outputs": [],
   "source": [
    "neuron.train(X_train, y_train)"
   ]
  },
  {
   "cell_type": "code",
   "execution_count": 7,
   "id": "ad368cc3-7fd2-43f1-9737-a8baf466885c",
   "metadata": {},
   "outputs": [],
   "source": [
    "preds = neuron.prediction([[2, 2], [1, 3], [2, 5]])"
   ]
  },
  {
   "cell_type": "code",
   "execution_count": 8,
   "id": "76e783ef-1de7-4833-9865-56dff8a1782f",
   "metadata": {},
   "outputs": [
    {
     "data": {
      "text/plain": [
       "array([0, 0, 1])"
      ]
     },
     "execution_count": 8,
     "metadata": {},
     "output_type": "execute_result"
    }
   ],
   "source": [
    "preds"
   ]
  }
 ],
 "metadata": {
  "kernelspec": {
   "display_name": "Python 3 (ipykernel)",
   "language": "python",
   "name": "python3"
  },
  "language_info": {
   "codemirror_mode": {
    "name": "ipython",
    "version": 3
   },
   "file_extension": ".py",
   "mimetype": "text/x-python",
   "name": "python",
   "nbconvert_exporter": "python",
   "pygments_lexer": "ipython3",
   "version": "3.10.12"
  }
 },
 "nbformat": 4,
 "nbformat_minor": 5
}
