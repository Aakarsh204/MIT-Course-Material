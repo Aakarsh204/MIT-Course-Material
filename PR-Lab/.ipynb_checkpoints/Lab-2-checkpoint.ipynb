{
 "cells": [
  {
   "cell_type": "code",
   "execution_count": 1,
   "id": "1e8c4985-4aef-42a0-8a18-ff272f539210",
   "metadata": {},
   "outputs": [],
   "source": [
    "import numpy as np"
   ]
  },
  {
   "cell_type": "code",
   "execution_count": 2,
   "id": "16fc6545-d6ee-43c3-9aac-b7f14c7a0a65",
   "metadata": {},
   "outputs": [],
   "source": [
    "def binary_step(x):\n",
    "    return np.heaviside(x, 1)"
   ]
  },
  {
   "cell_type": "code",
   "execution_count": 6,
   "id": "8e456dfe-6b09-405e-bbff-db3be23e422a",
   "metadata": {},
   "outputs": [],
   "source": [
    "def learn(X, y, lr = 0.1, epochs = 1000):\n",
    "    weights = np.random.rand(X.shape[1])\n",
    "    bias = 0\n",
    "    for epoch in range(epochs):\n",
    "        output = np.dot(X, weights) + bias\n",
    "        preds = binary_step(output)\n",
    "        error = y - preds\n",
    "        weights += lr * np.dot(error, X)\n",
    "        bias += lr * error\n",
    "    return weights, bias"
   ]
  },
  {
   "cell_type": "code",
   "execution_count": 15,
   "id": "809ca57f-b72f-4b7d-9795-f9c9577062d3",
   "metadata": {},
   "outputs": [],
   "source": [
    "X = np.array([[0, 0], [0, 1], [1, 0], [1, 1]])\n",
    "y = np.array([0, 0, 0, 1])"
   ]
  },
  {
   "cell_type": "code",
   "execution_count": 16,
   "id": "6a168381-d37b-487e-bf12-aa85d8bb7b69",
   "metadata": {},
   "outputs": [],
   "source": [
    "weights, bias = learn(X, y)"
   ]
  },
  {
   "cell_type": "code",
   "execution_count": 17,
   "id": "9717abf6-29ee-4665-9d66-6bb48102f338",
   "metadata": {},
   "outputs": [],
   "source": [
    "def predict(X, weights, bias):\n",
    "    output = np.dot(X, weights) + bias\n",
    "    return binary_step(output)"
   ]
  },
  {
   "cell_type": "code",
   "execution_count": 18,
   "id": "437c2c11-9a9f-4109-bb2b-4d8936188cdc",
   "metadata": {},
   "outputs": [
    {
     "name": "stdout",
     "output_type": "stream",
     "text": [
      "Input : \n",
      "[[0 0]\n",
      " [0 1]\n",
      " [1 0]\n",
      " [1 1]] \n",
      "Prediction: [0. 0. 0. 1.]\n"
     ]
    }
   ],
   "source": [
    "print(f\"Input : \\n{X} \\nPrediction: {predict(x, weights, bias)}\")"
   ]
  }
 ],
 "metadata": {
  "kernelspec": {
   "display_name": "Python 3 (ipykernel)",
   "language": "python",
   "name": "python3"
  },
  "language_info": {
   "codemirror_mode": {
    "name": "ipython",
    "version": 3
   },
   "file_extension": ".py",
   "mimetype": "text/x-python",
   "name": "python",
   "nbconvert_exporter": "python",
   "pygments_lexer": "ipython3",
   "version": "3.10.12"
  }
 },
 "nbformat": 4,
 "nbformat_minor": 5
}
