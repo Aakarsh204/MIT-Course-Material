{
 "cells": [
  {
   "cell_type": "code",
   "execution_count": 1,
   "id": "6ee70380-9ccd-4ffc-8689-f8ce787b025e",
   "metadata": {},
   "outputs": [],
   "source": [
    "import numpy as np"
   ]
  },
  {
   "cell_type": "code",
   "execution_count": 2,
   "id": "f172cf2c-fa77-442c-b3b6-b2ee4e770160",
   "metadata": {},
   "outputs": [],
   "source": [
    "def sigmoid(x):\n",
    "    return 1/(1+np.exp(-x))\n",
    "\n",
    "def sigmoid_derivative(x):\n",
    "    return x * (1 - x)"
   ]
  },
  {
   "cell_type": "code",
   "execution_count": 3,
   "id": "4d74372d-dea3-4a81-ac61-eb1744c285f6",
   "metadata": {},
   "outputs": [],
   "source": [
    "inputs = np.array([[0, 0], [0, 1], [1, 0], [1, 1]])\n",
    "targets = np.array([[0], [1], [1], [0]])"
   ]
  },
  {
   "cell_type": "code",
   "execution_count": null,
   "id": "b460479b-f591-48e9-ad91-171b2b1057fd",
   "metadata": {},
   "outputs": [],
   "source": [
    "hidden_w = np.random.uniform(-1, 1, (2, 2))\n",
    "hidden_b = np.random.uniform(-1m 1, (1, 2"
   ]
  }
 ],
 "metadata": {
  "kernelspec": {
   "display_name": "Python 3 (ipykernel)",
   "language": "python",
   "name": "python3"
  },
  "language_info": {
   "codemirror_mode": {
    "name": "ipython",
    "version": 3
   },
   "file_extension": ".py",
   "mimetype": "text/x-python",
   "name": "python",
   "nbconvert_exporter": "python",
   "pygments_lexer": "ipython3",
   "version": "3.10.12"
  }
 },
 "nbformat": 4,
 "nbformat_minor": 5
}
