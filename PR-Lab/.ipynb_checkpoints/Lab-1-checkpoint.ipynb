{
 "cells": [
  {
   "cell_type": "code",
   "execution_count": 30,
   "id": "479cfbc0-a45c-4a2c-8e0a-552b45cafe6b",
   "metadata": {},
   "outputs": [],
   "source": [
    "import re\n",
    "import pandas as pd\n",
    "import seaborn as sns"
   ]
  },
  {
   "cell_type": "code",
   "execution_count": 31,
   "id": "35ff4bb0-ac61-49db-97bd-ae4ed1b1bfdc",
   "metadata": {},
   "outputs": [],
   "source": [
    "data = pd.read_csv(\"Titanic-Dataset.csv\")"
   ]
  },
  {
   "cell_type": "code",
   "execution_count": 32,
   "id": "954d1029-984e-48c2-9f7a-8284040f6747",
   "metadata": {},
   "outputs": [],
   "source": [
    "def match_pattern(data, column, pattern):\n",
    "    matched = []\n",
    "    for value in data[column]:\n",
    "        if re.match(pattern.lower(), str(value).lower()):\n",
    "            matched.append(value)\n",
    "    return matched"
   ]
  },
  {
   "cell_type": "code",
   "execution_count": 33,
   "id": "b4bfafdd-05a8-42c0-8995-9953ae98e275",
   "metadata": {},
   "outputs": [],
   "source": [
    "def get_input():\n",
    "    print(\"Available columns to search: 'Name', 'Age', 'Sex', 'Survived', 'Pclass'\")\n",
    "    column = input(\"Enter the column name to search: \")\n",
    "    if column not in ['Name', 'Age', 'Sex', 'Survived', 'Pclass']:\n",
    "        print(\"Invalid column name. Please enter a valid column name\")\n",
    "        return\n",
    "    pattern = input(f\"Enter the pattern to match in the {column} column: \")\n",
    "    matched = match_pattern(data, column, pattern)\n",
    "    if matched:\n",
    "        print(f\"\\nFound {len(matched)} matches for the pattern {pattern} in column {column}:\")\n",
    "        for result in matched:\n",
    "            print(result)\n",
    "    else:\n",
    "        print(f\"\\nNo matches found for the pattrn {pattern} in column {column}\")"
   ]
  },
  {
   "cell_type": "code",
   "execution_count": 34,
   "id": "b5368f3b-c0a6-4bca-88fa-f92b98365bfb",
   "metadata": {},
   "outputs": [
    {
     "name": "stdout",
     "output_type": "stream",
     "text": [
      "Available columns to search: 'Name', 'Age', 'Sex', 'Survived', 'Pclass'\n"
     ]
    },
    {
     "name": "stdin",
     "output_type": "stream",
     "text": [
      "Enter the column name to search:  Name\n",
      "Enter the pattern to match in the Name column:  he\n"
     ]
    },
    {
     "name": "stdout",
     "output_type": "stream",
     "text": [
      "\n",
      "Found 10 matches for the pattern he in column Name:\n",
      "Heikkinen, Miss. Laina\n",
      "Hewlett, Mrs. (Mary D Kingcome) \n",
      "Henry, Miss. Delia\n",
      "Healy, Miss. Hanora \"Nora\"\n",
      "Hendekovic, Mr. Ignjac\n",
      "Herman, Miss. Alice\n",
      "Hegarty, Miss. Hanora \"Nora\"\n",
      "Herman, Mrs. Samuel (Jane Laver)\n",
      "Hedman, Mr. Oskar Arvid\n",
      "Heininen, Miss. Wendla Maria\n"
     ]
    }
   ],
   "source": [
    "get_input()"
   ]
  },
  {
   "cell_type": "code",
   "execution_count": null,
   "id": "58499cec-0186-43d5-983c-18dffdd8990a",
   "metadata": {},
   "outputs": [],
   "source": []
  }
 ],
 "metadata": {
  "kernelspec": {
   "display_name": "Python 3 (ipykernel)",
   "language": "python",
   "name": "python3"
  },
  "language_info": {
   "codemirror_mode": {
    "name": "ipython",
    "version": 3
   },
   "file_extension": ".py",
   "mimetype": "text/x-python",
   "name": "python",
   "nbconvert_exporter": "python",
   "pygments_lexer": "ipython3",
   "version": "3.10.12"
  }
 },
 "nbformat": 4,
 "nbformat_minor": 5
}
