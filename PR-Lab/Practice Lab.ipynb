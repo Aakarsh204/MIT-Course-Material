{
 "cells": [
  {
   "cell_type": "markdown",
   "id": "592c3b09-293b-4e2d-8713-7d2c8481e0a0",
   "metadata": {},
   "source": [
    "# Lab 1 - AND Gate with Perceptron"
   ]
  },
  {
   "cell_type": "code",
   "execution_count": 4,
   "id": "85907f3b-9955-446d-b883-ba63613e1bc2",
   "metadata": {},
   "outputs": [],
   "source": [
    "import numpy as np"
   ]
  },
  {
   "cell_type": "code",
   "execution_count": 5,
   "id": "2178d3ab-233c-4f85-a936-67bce03a892c",
   "metadata": {},
   "outputs": [],
   "source": [
    "def threshold(x):\n",
    "    return np.heaviside(x, 1)"
   ]
  },
  {
   "cell_type": "code",
   "execution_count": 8,
   "id": "5204ec98-4c49-4f26-a3ab-ac8badd01309",
   "metadata": {},
   "outputs": [
    {
     "data": {
      "text/plain": [
       "1.0"
      ]
     },
     "execution_count": 8,
     "metadata": {},
     "output_type": "execute_result"
    }
   ],
   "source": [
    "threshold(0)"
   ]
  },
  {
   "cell_type": "code",
   "execution_count": null,
   "id": "19d1f6e0-9fa4-4c3f-ac33-7bdea2c63f74",
   "metadata": {},
   "outputs": [],
   "source": []
  }
 ],
 "metadata": {
  "kernelspec": {
   "display_name": "Python 3 (ipykernel)",
   "language": "python",
   "name": "python3"
  },
  "language_info": {
   "codemirror_mode": {
    "name": "ipython",
    "version": 3
   },
   "file_extension": ".py",
   "mimetype": "text/x-python",
   "name": "python",
   "nbconvert_exporter": "python",
   "pygments_lexer": "ipython3",
   "version": "3.10.12"
  }
 },
 "nbformat": 4,
 "nbformat_minor": 5
}
