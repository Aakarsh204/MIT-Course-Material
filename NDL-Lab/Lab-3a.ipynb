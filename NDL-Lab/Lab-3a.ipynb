{
 "cells": [
  {
   "cell_type": "code",
   "execution_count": 1,
   "id": "bc04661b-4856-443c-befc-0d719d438294",
   "metadata": {},
   "outputs": [],
   "source": [
    "import numpy as np"
   ]
  },
  {
   "cell_type": "code",
   "execution_count": 1,
   "id": "535800fb-d402-4249-9ca7-cfb8d94a122a",
   "metadata": {},
   "outputs": [],
   "source": [
    "w1, w2, b = 0.5, 0.5, -1"
   ]
  },
  {
   "cell_type": "code",
   "execution_count": 2,
   "id": "29be3867-a92a-4188-9f18-80491b6d9618",
   "metadata": {},
   "outputs": [],
   "source": [
    "def activate(x):\n",
    "    return 1 if x >= 0 else 0"
   ]
  },
  {
   "cell_type": "code",
   "execution_count": 4,
   "id": "17e336f1-c8ec-4673-8936-afe5c217f8d7",
   "metadata": {},
   "outputs": [],
   "source": [
    "def train(inputs, targets, lr = 0.1, epochs = 100):\n",
    "    global w1, w2, b\n",
    "    for epoch in range(epochs):\n",
    "        total_error = 0\n",
    "        for i in range(len(inputs)):\n",
    "            A, B = inputs[i]\n",
    "            target = targets[i]\n",
    "            output = activate(w1*A + w2*B + b)\n",
    "            error = target-output\n",
    "            w1 += lr * error * A\n",
    "            w2 += lr * error * B\n",
    "            b += lr * error\n",
    "            total_error += abs(error)\n",
    "        if total_error == 0:\n",
    "            break"
   ]
  },
  {
   "cell_type": "code",
   "execution_count": 5,
   "id": "21c575af-0195-4d18-a68a-9f1602e9bc6d",
   "metadata": {},
   "outputs": [],
   "source": [
    "inputs = [(0, 0), (0, 1), (1, 0), (1, 1)]\n",
    "targets = [0, 0, 0, 1]\n",
    "train(inputs, targets)"
   ]
  },
  {
   "cell_type": "code",
   "execution_count": 6,
   "id": "aa18b46d-41d3-4f3b-94da-6567c534f6bf",
   "metadata": {},
   "outputs": [
    {
     "name": "stdout",
     "output_type": "stream",
     "text": [
      "Input: (0, 0) \t Output: 0\n",
      "Input: (0, 1) \t Output: 0\n",
      "Input: (1, 0) \t Output: 0\n",
      "Input: (1, 1) \t Output: 1\n"
     ]
    }
   ],
   "source": [
    "for i in range(len(inputs)):\n",
    "    A, B = inputs[i]\n",
    "    output = activate(w1*A + w2*B + b)\n",
    "    print(f\"Input: ({A}, {B}) \\t Output: {output}\")"
   ]
  }
 ],
 "metadata": {
  "kernelspec": {
   "display_name": "Python 3 (ipykernel)",
   "language": "python",
   "name": "python3"
  },
  "language_info": {
   "codemirror_mode": {
    "name": "ipython",
    "version": 3
   },
   "file_extension": ".py",
   "mimetype": "text/x-python",
   "name": "python",
   "nbconvert_exporter": "python",
   "pygments_lexer": "ipython3",
   "version": "3.10.12"
  }
 },
 "nbformat": 4,
 "nbformat_minor": 5
}
