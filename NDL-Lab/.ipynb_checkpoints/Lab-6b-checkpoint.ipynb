{
 "cells": [
  {
   "cell_type": "code",
   "execution_count": 1,
   "id": "83f91903-0f7d-4e0a-9201-1e6614015019",
   "metadata": {},
   "outputs": [],
   "source": [
    "import numpy as np"
   ]
  },
  {
   "cell_type": "code",
   "execution_count": 6,
   "id": "81f69934-8e18-4e9c-a74f-21edc272dc61",
   "metadata": {},
   "outputs": [],
   "source": [
    "class RNN:\n",
    "    def __init__(self, input_dim, hidden_dim, output_dim, lr = 0.001, steps = 5):\n",
    "        self.input_dim = input_dim\n",
    "        self.hidden_dim = hidden_dim\n",
    "        self.output_dim = output_dim\n",
    "        self.lr = lr\n",
    "        self.steps = steps\n",
    "\n",
    "        self.Wxh = np.random.randn(hidden_dim, input_dim) * 0.01\n",
    "        self.Whh = np.random.randn(hidden_dim, hidden_dim) * 0.01\n",
    "        self.Why = np.random.randn(output_dim, hidden_dim) * 0.01\n",
    "        self.bh = np.zeros((hidden_dim, 1))\n",
    "        self.by = np.zeros((output_dim, 1))\n",
    "\n",
    "    def forward(self, inputs):\n",
    "        h = np.zeros((self.hidden_dim, 1))\n",
    "        self.h_states = {-1:h}\n",
    "        self.outputs = {}\n",
    "\n",
    "        for t in range(self.steps):\n",
    "            h = np.tanh(np.dot(self.Wxh, inputs[t]) + np.dot(self.Whh, self.h_states[t-1]) + self.bh)\n",
    "            y = np.dot(self.Why, h) + self.by\n",
    "            self.h_states[t] = h\n",
    "            self.outputs[t] = y\n",
    "\n",
    "        return self.outputs\n",
    "\n",
    "    def backward(self, inputs, targets):\n",
    "        dWxh, dWhh, dWhy = np.zeros_like(self.Wxh), np.zeros_like(self.Whh), np.zeros_like(self.Why)\n",
    "        dbh, dby = np.zeros_like(self.bh), np.zeros_like(self.by)\n",
    "        dh_next = np.zeros((self.hidden_dim, 1))\n",
    "\n",
    "        for t in reversed(range(self.steps)):\n",
    "            dy = self.outputs[t] - targets[t]\n",
    "            dWhy += np.dot(dy, self.h_states[t].T)\n",
    "            dby += dy\n",
    "\n",
    "            dh = np.dot(self.Why.T, dy) + dh_next\n",
    "            dh_raw = (1 - self.h_states[t] ** 2) * dh\n",
    "            dbh += dh_raw\n",
    "            dWxh += np.dot(dh_raw, inputs[t].T)\n",
    "            dWhh += np.dot(dh_raw, self.h_states[t-1].T)\n",
    "\n",
    "            dh_next = np.dot(self.Whh.T, dh_raw)\n",
    "\n",
    "        for dparam in [dWxh, dWhh, dWhy, dbh, dby]:\n",
    "            np.clip(dparam, -5, 5, out=dparam)\n",
    "\n",
    "        for param, dparam in zip([self.Wxh, self.Whh, self.Why, self.bh, self.by], [dWxh, dWhh, dWhy, dbh, dby]):\n",
    "            param -= self.lr * dparam\n",
    "\n",
    "    def train(self, data, labels, epochs=100):\n",
    "        for epoch in range(epochs):\n",
    "            loss = 0\n",
    "            for inputs, targets in zip(data, labels):\n",
    "                outputs = self.forward(inputs)\n",
    "                self.backward(inputs, targets)\n",
    "                loss += np.sum((outputs[self.steps - 1] - targets[self.steps - 1]) ** 2) / 2\n",
    "            if epoch % 10 == 0:\n",
    "                print(f\"Epoch: {epoch}, Loss: {loss:.4f}\")"
   ]
  },
  {
   "cell_type": "code",
   "execution_count": 7,
   "id": "d04f23e5-3e58-4b90-ab2f-2842f6cc63a9",
   "metadata": {},
   "outputs": [
    {
     "name": "stdout",
     "output_type": "stream",
     "text": [
      "Epoch: 0, Loss: 0.9804\n",
      "Epoch: 10, Loss: 0.9772\n",
      "Epoch: 20, Loss: 0.9772\n",
      "Epoch: 30, Loss: 0.9772\n",
      "Epoch: 40, Loss: 0.9772\n"
     ]
    }
   ],
   "source": [
    "steps = 5\n",
    "input_dim = 3\n",
    "hidden_dim = 4\n",
    "output_dim = 2\n",
    "\n",
    "data = [np.random.randn(steps, input_dim, 1) * 0.1 for _ in range(100)]\n",
    "labels = [np.random.randn(steps, output_dim, 1) * 0.1 for _ in range(100)]\n",
    "\n",
    "rnn = RNN(input_dim, hidden_dim, output_dim)\n",
    "rnn.train(data, labels, epochs=50)"
   ]
  }
 ],
 "metadata": {
  "kernelspec": {
   "display_name": "Python 3 (ipykernel)",
   "language": "python",
   "name": "python3"
  },
  "language_info": {
   "codemirror_mode": {
    "name": "ipython",
    "version": 3
   },
   "file_extension": ".py",
   "mimetype": "text/x-python",
   "name": "python",
   "nbconvert_exporter": "python",
   "pygments_lexer": "ipython3",
   "version": "3.10.12"
  }
 },
 "nbformat": 4,
 "nbformat_minor": 5
}
