{
 "cells": [
  {
   "cell_type": "code",
   "execution_count": 1,
   "id": "9149bb01-9865-4f96-8157-e72b30b4d4c7",
   "metadata": {},
   "outputs": [],
   "source": [
    "import numpy as np"
   ]
  },
  {
   "cell_type": "code",
   "execution_count": 6,
   "id": "01443da3-8616-4586-9ee7-3b4728bb4a58",
   "metadata": {},
   "outputs": [],
   "source": [
    "def mahalanobis(A, B):\n",
    "    def centroid(poly):\n",
    "        x, y = 0, 0\n",
    "        for i, j in poly:\n",
    "            x += i\n",
    "            y += j\n",
    "        x, y = x/len(poly), y/len(poly)\n",
    "        return np.array([x, y])\n",
    "    c1 = centroid(A)\n",
    "    c2 = centroid(B)\n",
    "    return np.sqrt(((c1[0] - c2[0])**2)+((c1[1] - c2[1])**2))"
   ]
  },
  {
   "cell_type": "code",
   "execution_count": 7,
   "id": "3d4fb65b-1ce4-465b-9fa4-d5ff359033fa",
   "metadata": {},
   "outputs": [],
   "source": [
    "A = np.array([[1, 2], [4, 5], [6, 7], [8, 9]])\n",
    "B = np.array([[1, 2], [3, 4], [5, 6], [7, 8]])"
   ]
  },
  {
   "cell_type": "code",
   "execution_count": 9,
   "id": "9c68d778-f371-40f6-8dd6-a8e023743fa8",
   "metadata": {},
   "outputs": [
    {
     "name": "stdout",
     "output_type": "stream",
     "text": [
      "Mahalanobis Distance:  1.0606601717798212\n"
     ]
    }
   ],
   "source": [
    "print(\"Mahalanobis Distance: \", mahalanobis(A, B))"
   ]
  }
 ],
 "metadata": {
  "kernelspec": {
   "display_name": "Python 3 (ipykernel)",
   "language": "python",
   "name": "python3"
  },
  "language_info": {
   "codemirror_mode": {
    "name": "ipython",
    "version": 3
   },
   "file_extension": ".py",
   "mimetype": "text/x-python",
   "name": "python",
   "nbconvert_exporter": "python",
   "pygments_lexer": "ipython3",
   "version": "3.10.12"
  }
 },
 "nbformat": 4,
 "nbformat_minor": 5
}
