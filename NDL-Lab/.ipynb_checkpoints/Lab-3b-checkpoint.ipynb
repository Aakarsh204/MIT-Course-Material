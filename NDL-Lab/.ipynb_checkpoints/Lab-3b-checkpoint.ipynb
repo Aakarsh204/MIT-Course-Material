{
 "cells": [
  {
   "cell_type": "code",
   "execution_count": 2,
   "id": "6ee70380-9ccd-4ffc-8689-f8ce787b025e",
   "metadata": {},
   "outputs": [],
   "source": [
    "import numpy as np"
   ]
  },
  {
   "cell_type": "code",
   "execution_count": 3,
   "id": "f172cf2c-fa77-442c-b3b6-b2ee4e770160",
   "metadata": {},
   "outputs": [],
   "source": [
    "def sigmoid(x):\n",
    "    return 1/(1+np.exp(-x))\n",
    "\n",
    "def sigmoid_derivative(x):\n",
    "    return x * (1 - x)"
   ]
  },
  {
   "cell_type": "code",
   "execution_count": 4,
   "id": "4d74372d-dea3-4a81-ac61-eb1744c285f6",
   "metadata": {},
   "outputs": [],
   "source": [
    "inputs = np.array([[0, 0], [0, 1], [1, 0], [1, 1]])\n",
    "targets = np.array([[0], [1], [1], [0]])"
   ]
  },
  {
   "cell_type": "code",
   "execution_count": 5,
   "id": "b460479b-f591-48e9-ad91-171b2b1057fd",
   "metadata": {},
   "outputs": [],
   "source": [
    "hidden_w = np.random.uniform(-1, 1, (2, 2))\n",
    "hidden_b = np.random.uniform(-1, 1, (1, 2))\n",
    "output_weights = np.random.uniform(-1, 1, (2, 1))\n",
    "output_bias = np.random.uniform(-1, 1, (1, 1))"
   ]
  },
  {
   "cell_type": "code",
   "execution_count": 8,
   "id": "7b24fb78-b838-4ef3-a1c4-3dd5108f01ca",
   "metadata": {},
   "outputs": [
    {
     "name": "stdout",
     "output_type": "stream",
     "text": [
      "Training with LR: 0.01\n",
      "Final MSE: 0.2493616327938996\n",
      "XOR Gate Results\n",
      "Inputs: [0 0]; Predicted Output: [0.]\n",
      "Inputs: [0 1]; Predicted Output: [0.]\n",
      "Inputs: [1 0]; Predicted Output: [1.]\n",
      "Inputs: [1 1]; Predicted Output: [1.]\n",
      "Training with LR: 0.1\n",
      "Stopped early\n",
      "Final MSE: 0.009999230532452424\n",
      "XOR Gate Results\n",
      "Inputs: [0 0]; Predicted Output: [0.]\n",
      "Inputs: [0 1]; Predicted Output: [1.]\n",
      "Inputs: [1 0]; Predicted Output: [1.]\n",
      "Inputs: [1 1]; Predicted Output: [0.]\n",
      "Training with LR: 0.5\n",
      "Stopped early\n",
      "Final MSE: 0.009979134270117781\n",
      "XOR Gate Results\n",
      "Inputs: [0 0]; Predicted Output: [0.]\n",
      "Inputs: [0 1]; Predicted Output: [1.]\n",
      "Inputs: [1 0]; Predicted Output: [1.]\n",
      "Inputs: [1 1]; Predicted Output: [0.]\n"
     ]
    }
   ],
   "source": [
    "epochs = 10000\n",
    "lrs = [0.01, 0.1, 0.5]\n",
    "for lr in lrs:\n",
    "    print(f\"Training with LR: {lr}\")\n",
    "    hidden_weights = np.random.uniform(-1, 1, (2, 2))\n",
    "    hidden_bias = np.random.uniform(-1, 1, (1, 2))\n",
    "    output_weights = np.random.uniform(-1, 1, (2, 1))\n",
    "    output_bias = np.random.uniform(-1, 1, (1, 1))\n",
    "\n",
    "    for epoch in range(epochs):\n",
    "        hidden_layer_input = np.dot(inputs, hidden_weights) + hidden_bias\n",
    "        hidden_layer_output = sigmoid(hidden_layer_input)\n",
    "        output_layer_input = np.dot(hidden_layer_output, output_weights) + output_bias\n",
    "        preds = sigmoid(output_layer_input)\n",
    "\n",
    "        error = targets - preds\n",
    "        mse = np.mean(np.square(error))\n",
    "\n",
    "        d_pred_out = error * sigmoid_derivative(preds)\n",
    "        d_hidden_layer = np.dot(d_pred_out, output_weights.T) * sigmoid_derivative(hidden_layer_output)\n",
    "\n",
    "        output_weights += np.dot(hidden_layer_output.T, d_pred_out) * lr\n",
    "        output_bias += np.sum(d_pred_out, axis = 0, keepdims = True) * lr\n",
    "        hidden_weights += np.dot(inputs.T, d_hidden_layer) * lr\n",
    "        hidden_bias += np.sum(d_hidden_layer, axis = 0, keepdims = True) * lr\n",
    "\n",
    "        if mse < 0.01:\n",
    "            print(\"Stopped early\")\n",
    "            break\n",
    "    print(f\"Final MSE: {mse}\")\n",
    "\n",
    "    print(\"XOR Gate Results\")\n",
    "    for i in range(len(inputs)):\n",
    "        h_i = np.dot(inputs[i], hidden_weights) + hidden_bias\n",
    "        h_o = sigmoid(h_i)\n",
    "        o_i = np.dot(h_o, output_weights) + output_bias\n",
    "        pred = sigmoid(o_i)\n",
    "\n",
    "        print(f\"Inputs: {inputs[i]}; Predicted Output: {np.round(pred[0])}\")"
   ]
  },
  {
   "cell_type": "code",
   "execution_count": null,
   "id": "3b85c5ba-b31d-4368-ae35-1017dc06a81e",
   "metadata": {},
   "outputs": [],
   "source": []
  }
 ],
 "metadata": {
  "kernelspec": {
   "display_name": "Python 3 (ipykernel)",
   "language": "python",
   "name": "python3"
  },
  "language_info": {
   "codemirror_mode": {
    "name": "ipython",
    "version": 3
   },
   "file_extension": ".py",
   "mimetype": "text/x-python",
   "name": "python",
   "nbconvert_exporter": "python",
   "pygments_lexer": "ipython3",
   "version": "3.10.12"
  }
 },
 "nbformat": 4,
 "nbformat_minor": 5
}
