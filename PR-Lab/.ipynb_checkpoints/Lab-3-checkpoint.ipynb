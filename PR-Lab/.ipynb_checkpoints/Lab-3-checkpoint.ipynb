{
 "cells": [
  {
   "cell_type": "code",
   "execution_count": 5,
   "id": "9149bb01-9865-4f96-8157-e72b30b4d4c7",
   "metadata": {},
   "outputs": [],
   "source": [
    "import numpy as np"
   ]
  },
  {
   "cell_type": "code",
   "execution_count": 6,
   "id": "01443da3-8616-4586-9ee7-3b4728bb4a58",
   "metadata": {},
   "outputs": [],
   "source": [
    "def mahalanobis(A, B):\n",
    "    combined_data = np.vstack((A, B))\n",
    "    cov_matrix = np.cov(combined_data.T)\n",
    "    inv_cov_matrix = np.linalg.pinv(cov_matrix)\n",
    "  \n",
    "    centroid_A = np.mean(A, axis=0)\n",
    "    centroid_B = np.mean(B, axis=0)\n",
    "    \n",
    "    diff = centroid_A - centroid_B\n",
    "    mahalanobis_distance = np.sqrt(np.dot(np.dot(diff, inv_cov_matrix), diff.T))\n",
    "    \n",
    "    return mahalanobis_distance"
   ]
  },
  {
   "cell_type": "code",
   "execution_count": 7,
   "id": "3d4fb65b-1ce4-465b-9fa4-d5ff359033fa",
   "metadata": {},
   "outputs": [],
   "source": [
    "A = np.array([[1, 2], [4, 5], [6, 7], [8, 9]])\n",
    "B = np.array([[1, 2], [3, 4], [5, 6], [7, 8]])"
   ]
  },
  {
   "cell_type": "code",
   "execution_count": 8,
   "id": "9c68d778-f371-40f6-8dd6-a8e023743fa8",
   "metadata": {},
   "outputs": [
    {
     "name": "stdout",
     "output_type": "stream",
     "text": [
      "Mahalanobis Distance:  0.2867846418645871\n"
     ]
    }
   ],
   "source": [
    "print(\"Mahalanobis Distance: \", mahalanobis(A, B))"
   ]
  }
 ],
 "metadata": {
  "kernelspec": {
   "display_name": "Python 3 (ipykernel)",
   "language": "python",
   "name": "python3"
  },
  "language_info": {
   "codemirror_mode": {
    "name": "ipython",
    "version": 3
   },
   "file_extension": ".py",
   "mimetype": "text/x-python",
   "name": "python",
   "nbconvert_exporter": "python",
   "pygments_lexer": "ipython3",
   "version": "3.10.12"
  }
 },
 "nbformat": 4,
 "nbformat_minor": 5
}
