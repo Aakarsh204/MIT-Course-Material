{
 "cells": [
  {
   "cell_type": "code",
   "execution_count": null,
   "id": "2aaca641-be49-4156-8273-6a956eff2742",
   "metadata": {},
   "outputs": [],
   "source": [
    "import re\n",
    "import nltk\n",
    "import pandas as pd\n",
    "from nltk.corpus import stopwords\n",
    "from nltk.sentiment.vader import SentimentIntensityAnalyzer\n",
    "from sklearn.ensemble import RandomForestClassifier\n",
    "from sklearn.metrics import accuracy_score\n",
    "from sklearn.feature_extraction.text import CountVectorizer\n",
    "\n",
    "# Clean raw tweets\n",
    "def clean_text(text):\n",
    "    text = ' '.join([i for i in text.split() if '@' not in i])  # remove emails\n",
    "    text = re.sub('http[s]?:?/\\s+', '', text)                  # remove URLs\n",
    "    text = re.sub(r'[^a-zA-Z\\']', ' ', text)                   # keep only alphabets\n",
    "    text = re.sub(r'[^\\x00-\\x7F]+', '', text)                  # remove Unicode chars\n",
    "    text = text.lower()                                        # lowercase\n",
    "    text = re.sub('\\s+', ' ', text)                            # remove extra spaces\n",
    "    return text\n",
    "\n",
    "nltk.download('stopwords')\n",
    "nltk.download('vader_lexicon')\n",
    "\n",
    "# Load English stop words\n",
    "STOP_WORDS = set(stopwords.words('english'))\n",
    "\n",
    "# Load dataset\n",
    "df = pd.read_csv(\"train.csv\")  # columns: id, label, tweet\n",
    "df[\"clean_tweet\"] = df[\"tweet\"].apply(clean_text)\n",
    "df[\"cleaned_tweet\"] = df[\"clean_tweet\"].apply(lambda x: ' '.join([word for word in x.split() if word not in STOP_WORDS]))\n",
    "df[\"word_count\"] = df[\"cleaned_tweet\"].str.split().apply(len)\n",
    "\n",
    "# Add polarity score\n",
    "sid = SentimentIntensityAnalyzer()\n",
    "df[\"scores\"] = df[\"tweet\"].apply(lambda t: sid.polarity_scores(t))\n",
    "df[\"compound\"] = df[\"scores\"].apply(lambda s: s['compound'])\n",
    "df[\"comp_score\"] = df[\"compound\"].apply(lambda s: '0' if s <= 0 else '1')\n",
    "\n",
    "# Feature extraction\n",
    "vectorizer = CountVectorizer()\n",
    "X = vectorizer.fit_transform(df[\"cleaned_tweet\"])\n",
    "y = df[\"label\"]\n",
    "\n",
    "# Train-test split\n",
    "from sklearn.model_selection import train_test_split\n",
    "X_train, X_test, y_train, y_test = train_test_split(X, y, test_size=0.2, random_state=42)\n",
    "\n",
    "# Model training\n",
    "model = RandomForestClassifier(n_estimators=200)\n",
    "model.fit(X_train, y_train)\n",
    "y_pred = model.predict(X_test)\n",
    "\n",
    "# Evaluation\n",
    "print(\"Accuracy:\", accuracy_score(y_test, y_pred) * 100, \"%\")"
   ]
  }
 ],
 "metadata": {
  "kernelspec": {
   "display_name": "Python 3 (ipykernel)",
   "language": "python",
   "name": "python3"
  },
  "language_info": {
   "codemirror_mode": {
    "name": "ipython",
    "version": 3
   },
   "file_extension": ".py",
   "mimetype": "text/x-python",
   "name": "python",
   "nbconvert_exporter": "python",
   "pygments_lexer": "ipython3",
   "version": "3.10.12"
  }
 },
 "nbformat": 4,
 "nbformat_minor": 5
}
