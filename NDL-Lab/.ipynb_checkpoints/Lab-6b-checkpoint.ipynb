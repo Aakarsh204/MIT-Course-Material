{
 "cells": [
  {
   "cell_type": "code",
   "execution_count": 8,
   "id": "83f91903-0f7d-4e0a-9201-1e6614015019",
   "metadata": {},
   "outputs": [],
   "source": [
    "import numpy as np"
   ]
  },
  {
   "cell_type": "code",
   "execution_count": 9,
   "id": "81f69934-8e18-4e9c-a74f-21edc272dc61",
   "metadata": {},
   "outputs": [],
   "source": [
    "class RNN:\n",
    "    def __init__(self, input_dim, hidden_dim, output_dim, lr=0.001, steps=5):\n",
    "        self.input_dim, self.hidden_dim, self.output_dim = input_dim, hidden_dim, output_dim\n",
    "        self.lr, self.steps = lr, steps\n",
    "\n",
    "        # Initialize weights and biases\n",
    "        self.Wxh = np.random.randn(hidden_dim, input_dim) * 0.01\n",
    "        self.Whh = np.random.randn(hidden_dim, hidden_dim) * 0.01\n",
    "        self.Why = np.random.randn(output_dim, hidden_dim) * 0.01\n",
    "        self.bh, self.by = np.zeros((hidden_dim, 1)), np.zeros((output_dim, 1))\n",
    "\n",
    "    def forward(self, inputs):\n",
    "        h = np.zeros((self.hidden_dim, 1))\n",
    "        h_states, outputs = [], []\n",
    "\n",
    "        for t in range(self.steps):\n",
    "            h = np.tanh(self.Wxh @ inputs[t] + self.Whh @ h + self.bh)\n",
    "            outputs.append(self.Why @ h + self.by)\n",
    "            h_states.append(h)\n",
    "\n",
    "        return h_states, outputs\n",
    "\n",
    "    def backward(self, inputs, targets, h_states, outputs):\n",
    "        dWxh, dWhh, dWhy = np.zeros_like(self.Wxh), np.zeros_like(self.Whh), np.zeros_like(self.Why)\n",
    "        dbh, dby = np.zeros_like(self.bh), np.zeros_like(self.by)\n",
    "        dh_next = np.zeros((self.hidden_dim, 1))\n",
    "\n",
    "        for t in reversed(range(self.steps)):\n",
    "            dy = outputs[t] - targets[t]\n",
    "            dWhy += dy @ h_states[t].T\n",
    "            dby += dy\n",
    "\n",
    "            dh = self.Why.T @ dy + dh_next\n",
    "            dh_raw = (1 - h_states[t] ** 2) * dh\n",
    "            dbh += dh_raw\n",
    "            dWxh += dh_raw @ inputs[t].T\n",
    "            dWhh += dh_raw @ (h_states[t - 1] if t > 0 else np.zeros_like(h_states[0])).T\n",
    "            dh_next = self.Whh.T @ dh_raw\n",
    "\n",
    "        # Gradient clipping and weight update\n",
    "        for param, dparam in zip([self.Wxh, self.Whh, self.Why, self.bh, self.by], \n",
    "                                 [dWxh, dWhh, dWhy, dbh, dby]):\n",
    "            np.clip(dparam, -5, 5, out=dparam)\n",
    "            param -= self.lr * dparam\n",
    "\n",
    "    def train(self, data, labels, epochs=100):\n",
    "        for epoch in range(epochs):\n",
    "            loss = 0\n",
    "            for inputs, targets in zip(data, labels):\n",
    "                h_states, outputs = self.forward(inputs)\n",
    "                self.backward(inputs, targets, h_states, outputs)\n",
    "                loss += np.sum((outputs[-1] - targets[-1]) ** 2) / 2\n",
    "            if epoch % 10 == 0:\n",
    "                print(f\"Epoch {epoch}: Loss {loss:.4f}\")\n"
   ]
  },
  {
   "cell_type": "code",
   "execution_count": 14,
   "id": "d04f23e5-3e58-4b90-ab2f-2842f6cc63a9",
   "metadata": {},
   "outputs": [
    {
     "name": "stdout",
     "output_type": "stream",
     "text": [
      "Epoch 0: Loss 0.9017\n",
      "Epoch 10: Loss 0.9027\n",
      "Epoch 20: Loss 0.9027\n",
      "Epoch 30: Loss 0.9027\n",
      "Epoch 40: Loss 0.9027\n"
     ]
    }
   ],
   "source": [
    "steps = 5\n",
    "input_dim = 3\n",
    "hidden_dim = 4\n",
    "output_dim = 2\n",
    "\n",
    "data = [np.random.randn(steps, input_dim, 1) * 0.1 for _ in range(100)]\n",
    "labels = [np.random.randn(steps, output_dim, 1) * 0.1 for _ in range(100)]\n",
    "\n",
    "rnn = RNN(input_dim, hidden_dim, output_dim)\n",
    "rnn.train(data, labels, epochs=50)"
   ]
  }
 ],
 "metadata": {
  "kernelspec": {
   "display_name": "Python 3 (ipykernel)",
   "language": "python",
   "name": "python3"
  },
  "language_info": {
   "codemirror_mode": {
    "name": "ipython",
    "version": 3
   },
   "file_extension": ".py",
   "mimetype": "text/x-python",
   "name": "python",
   "nbconvert_exporter": "python",
   "pygments_lexer": "ipython3",
   "version": "3.10.12"
  }
 },
 "nbformat": 4,
 "nbformat_minor": 5
}
