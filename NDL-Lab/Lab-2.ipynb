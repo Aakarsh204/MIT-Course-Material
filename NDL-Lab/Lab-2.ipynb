{
 "cells": [
  {
   "cell_type": "markdown",
   "id": "cc28b96a-342f-47fa-8e43-6fe0f827cff4",
   "metadata": {},
   "source": [
    "# Hebbian Learning"
   ]
  },
  {
   "cell_type": "code",
   "execution_count": 1,
   "id": "4e41cbb1-ab33-447c-a5d4-147f278a6129",
   "metadata": {},
   "outputs": [],
   "source": [
    "import numpy as np"
   ]
  },
  {
   "cell_type": "code",
   "execution_count": 2,
   "id": "59d5b206-cbd2-41af-b423-41363ffdffd4",
   "metadata": {},
   "outputs": [],
   "source": [
    "class Neuron:\n",
    "    def __init__(self, num_inputs):\n",
    "        self.weights = np.random.rand(num_inputs)\n",
    "\n",
    "    def activate(self, inputs):\n",
    "        weighted_sum = np.dot(inputs, self.weights)\n",
    "        return weighted_sum\n",
    "\n",
    "    def learn_hebbian(self, inputs, lr = 0.01):\n",
    "        activation = self.activate(inputs)\n",
    "        self.weights += lr * activation * inputs"
   ]
  },
  {
   "cell_type": "code",
   "execution_count": 3,
   "id": "f1ee999f-d2b6-471d-a503-2fc99a211c49",
   "metadata": {},
   "outputs": [],
   "source": [
    "neuron = Neuron(3)\n",
    "inputs = np.array([0.5, 0.3, 0.2])\n",
    "for i in range(10000):\n",
    "    neuron.learn_hebbian(inputs)"
   ]
  },
  {
   "cell_type": "code",
   "execution_count": 4,
   "id": "a74220b5-faed-4c2e-8715-d19c6be649be",
   "metadata": {},
   "outputs": [
    {
     "data": {
      "text/plain": [
       "array([1.76519975e+16, 1.05911985e+16, 7.06079900e+15])"
      ]
     },
     "execution_count": 4,
     "metadata": {},
     "output_type": "execute_result"
    }
   ],
   "source": [
    "neuron.weights"
   ]
  }
 ],
 "metadata": {
  "kernelspec": {
   "display_name": "Python 3 (ipykernel)",
   "language": "python",
   "name": "python3"
  },
  "language_info": {
   "codemirror_mode": {
    "name": "ipython",
    "version": 3
   },
   "file_extension": ".py",
   "mimetype": "text/x-python",
   "name": "python",
   "nbconvert_exporter": "python",
   "pygments_lexer": "ipython3",
   "version": "3.10.12"
  }
 },
 "nbformat": 4,
 "nbformat_minor": 5
}
