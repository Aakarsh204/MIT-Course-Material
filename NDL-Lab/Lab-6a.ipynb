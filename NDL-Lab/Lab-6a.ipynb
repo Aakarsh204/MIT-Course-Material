{
 "cells": [
  {
   "cell_type": "code",
   "execution_count": 1,
   "id": "45673f63-43ef-41ca-b608-43727fc0397b",
   "metadata": {},
   "outputs": [],
   "source": [
    "import numpy as np\n",
    "import matplotlib.pyplot as plt"
   ]
  },
  {
   "cell_type": "code",
   "execution_count": 2,
   "id": "db7a9a1c-43eb-4bc0-b8f5-352a9281739f",
   "metadata": {},
   "outputs": [],
   "source": [
    "class SelfOrganizingMap:\n",
    "    def __init__(self, input_dim, grid_size, lr = 0.1, radius = None, epochs=1000):\n",
    "        self.input_dim = input_dim\n",
    "        self.grid_size = grid_size\n",
    "        self.lr = lr\n",
    "        self.epochs = epochs\n",
    "        self.radius = radius if radius else max(grid_size)/2\n",
    "        self.weights = np.random.rand(grid_size[0], grid_size[1], input_dim)\n",
    "\n",
    "    def find_bmu(self, sample):\n",
    "        distances = np.linalg.norm(self.weights - sample, axis = 2)\n",
    "        return np.unravel_index(np.argmin(distances), distances.shape)\n",
    "\n",
    "    def update_weights(self, sample, bmu, iteration):\n",
    "        for i in range(self.grid_size[0]):\n",
    "            for j in range(self.grid_size[1]):\n",
    "                dist_to_bmu = np.linalg.norm(np.array([i, j]) - np.array(bmu))\n",
    "                if dist_to_bmu <= self.radius:\n",
    "                    influence = np.exp(-dist_to_bmu**2/(2*(self.radius**2)))\n",
    "                    self.weights[i, j] += self.lr * influence * (sample - self.weights[i, j])\n",
    "\n",
    "    def train(self, data):\n",
    "        for epoch in range(self.epochs):\n",
    "            for sample in data:\n",
    "                bmu = self.find_bmu(sample)\n",
    "                self.update_weights(sample, bmu, epoch)\n",
    "            self.lr *= 0.995\n",
    "            self.radius *= 0.995\n",
    "    def visualize(self):\n",
    "        plt.imshow(self.weights.reshape(self.grid_size[0], self.grid_size[1], self.input_dim))\n",
    "        plt.title(\"SOM\")\n",
    "        plt.show()"
   ]
  },
  {
   "cell_type": "code",
   "execution_count": 3,
   "id": "63d0d83c-f956-4355-a299-2d4b01596c65",
   "metadata": {},
   "outputs": [
    {
     "data": {
      "image/png": "[encoded data removed]",
      "text/plain": [
       "<Figure size 640x480 with 1 Axes>"
      ]
     },
     "metadata": {},
     "output_type": "display_data"
    }
   ],
   "source": [
    "data = np.random.rand(100, 3)\n",
    "som = SelfOrganizingMap(input_dim = 3, grid_size = (10, 10))\n",
    "som.train(data)\n",
    "som.visualize()"
   ]
  },
  {
   "cell_type": "code",
   "execution_count": null,
   "id": "a41aecdd-206e-46d4-82f6-b706622d53df",
   "metadata": {},
   "outputs": [],
   "source": []
  }
 ],
 "metadata": {
  "kernelspec": {
   "display_name": "Python 3 (ipykernel)",
   "language": "python",
   "name": "python3"
  },
  "language_info": {
   "codemirror_mode": {
    "name": "ipython",
    "version": 3
   },
   "file_extension": ".py",
   "mimetype": "text/x-python",
   "name": "python",
   "nbconvert_exporter": "python",
   "pygments_lexer": "ipython3",
   "version": "3.10.12"
  }
 },
 "nbformat": 4,
 "nbformat_minor": 5
}
